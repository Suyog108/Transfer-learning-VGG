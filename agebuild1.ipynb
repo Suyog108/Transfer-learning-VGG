{
 "cells": [
  {
   "cell_type": "code",
   "execution_count": 2,
   "id": "c6b73f79",
   "metadata": {},
   "outputs": [
    {
     "data": {
      "text/plain": [
       "[PhysicalDevice(name='/physical_device:GPU:0', device_type='GPU')]"
      ]
     },
     "execution_count": 2,
     "metadata": {},
     "output_type": "execute_result"
    }
   ],
   "source": [
    "import tensorflow as tf\n",
    "from tensorflow.python.client import device_lib\n",
    "tf.config.list_physical_devices('GPU')"
   ]
  },
  {
   "cell_type": "code",
   "execution_count": 3,
   "id": "0a9f36e0",
   "metadata": {},
   "outputs": [
    {
     "data": {
      "text/plain": [
       "[name: \"/device:CPU:0\"\n",
       " device_type: \"CPU\"\n",
       " memory_limit: 268435456\n",
       " locality {\n",
       " }\n",
       " incarnation: 3435858766010733562\n",
       " xla_global_id: -1,\n",
       " name: \"/device:GPU:0\"\n",
       " device_type: \"GPU\"\n",
       " memory_limit: 4834983936\n",
       " locality {\n",
       "   bus_id: 1\n",
       "   links {\n",
       "   }\n",
       " }\n",
       " incarnation: 6758879376051890711\n",
       " physical_device_desc: \"device: 0, name: NVIDIA GeForce GTX 1060, pci bus id: 0000:01:00.0, compute capability: 6.1\"\n",
       " xla_global_id: 416903419]"
      ]
     },
     "execution_count": 3,
     "metadata": {},
     "output_type": "execute_result"
    }
   ],
   "source": [
    "device_lib.list_local_devices()"
   ]
  },
  {
   "cell_type": "code",
   "execution_count": 4,
   "id": "40f7cb04",
   "metadata": {},
   "outputs": [],
   "source": [
    "import os\n",
    "import cv2\n",
    "import numpy as np\n",
    "import torch\n",
    "import glob\n",
    "import torch.nn as nn\n",
    "import torchvision\n",
    "from torchvision import transforms\n",
    "from torch.utils.data import DataLoader\n",
    "from torch.optim import Adam\n",
    "from torch.autograd import Variable\n",
    "import pathlib\n",
    "from tensorflow.keras.utils import img_to_array\n",
    "from sklearn.model_selection import train_test_split"
   ]
  },
  {
   "cell_type": "code",
   "execution_count": 5,
   "id": "e21e2d3c",
   "metadata": {},
   "outputs": [],
   "source": [
    "device = torch.device('cuda' if torch.cuda.is_available()else'cpu')"
   ]
  },
  {
   "cell_type": "code",
   "execution_count": 6,
   "id": "906b590d",
   "metadata": {},
   "outputs": [
    {
     "name": "stdout",
     "output_type": "stream",
     "text": [
      "cpu\n"
     ]
    }
   ],
   "source": [
    "print(device)"
   ]
  },
  {
   "cell_type": "code",
   "execution_count": 7,
   "id": "8d70de92",
   "metadata": {},
   "outputs": [],
   "source": [
    "#transforms\n",
    "transformer=transforms.Compose([\n",
    "    transforms.Resize((150, 150)),\n",
    "    transforms.RandomHorizontalFlip(),\n",
    "    transforms.ToTensor(),\n",
    "    transforms.Normalize([0.5,0.5,0.5],\n",
    "                        [0.5,0.5,0.5])\n",
    "]\n",
    ")"
   ]
  },
  {
   "cell_type": "code",
   "execution_count": 8,
   "id": "69b5dd8e",
   "metadata": {},
   "outputs": [
    {
     "name": "stdout",
     "output_type": "stream",
     "text": [
      "Total images  33486\n"
     ]
    }
   ],
   "source": [
    "listImageFilePaths = []\n",
    "for dirname, _, filenames in os.walk('combined_faces/'):\n",
    "    for filename in filenames:\n",
    "        listImageFilePaths.append( os.path.join(dirname, filename))\n",
    "        \n",
    "print('Total images ', len(listImageFilePaths))"
   ]
  },
  {
   "cell_type": "code",
   "execution_count": 9,
   "id": "51e9ef46",
   "metadata": {},
   "outputs": [],
   "source": [
    "squeezenet_age = 'model/agegender_age101_squeezenet.hdf5'"
   ]
  },
  {
   "cell_type": "code",
   "execution_count": 10,
   "id": "c31fd1c2",
   "metadata": {},
   "outputs": [
    {
     "data": {
      "text/plain": [
       "['combined_faces/100_1.jpg', 'combined_faces/100_10.jpg']"
      ]
     },
     "execution_count": 10,
     "metadata": {},
     "output_type": "execute_result"
    }
   ],
   "source": [
    "listImageFilePaths[:2]"
   ]
  },
  {
   "cell_type": "code",
   "execution_count": 11,
   "id": "dd468973",
   "metadata": {},
   "outputs": [],
   "source": [
    "Image_dimension = (100, 100, 3)"
   ]
  },
  {
   "cell_type": "code",
   "execution_count": 12,
   "id": "67fda696",
   "metadata": {},
   "outputs": [],
   "source": [
    "data = []\n",
    "labels = []"
   ]
  },
  {
   "cell_type": "code",
   "execution_count": 13,
   "id": "56296044",
   "metadata": {},
   "outputs": [],
   "source": [
    "def displayImage(imagePath):\n",
    "    image = mping.imread(imagePath)\n",
    "    plt.imshow(image)\n",
    "    print('Image path', imagePath)\n",
    "    plt.show()"
   ]
  },
  {
   "cell_type": "code",
   "execution_count": 14,
   "id": "8f260594",
   "metadata": {},
   "outputs": [],
   "source": [
    "for img in listImageFilePaths:\n",
    "    image1 = cv2.imread(img)\n",
    "    image = img_to_array(image1)\n",
    "    data.append(image) \n",
    "    age_value = img.split(\"/\")[-1]\n",
    "    age_value = age_value.split(\"_\")[0]\n",
    "    labels.append(age_value)"
   ]
  },
  {
   "cell_type": "code",
   "execution_count": 15,
   "id": "29cd3812",
   "metadata": {},
   "outputs": [
    {
     "data": {
      "text/plain": [
       "['12', '12', '12', '12', '12']"
      ]
     },
     "execution_count": 15,
     "metadata": {},
     "output_type": "execute_result"
    }
   ],
   "source": [
    "labels[550:555]"
   ]
  },
  {
   "cell_type": "code",
   "execution_count": 16,
   "id": "63c6a34c",
   "metadata": {},
   "outputs": [
    {
     "data": {
      "text/plain": [
       "[array([[[32., 41., 51.],\n",
       "         [31., 40., 50.],\n",
       "         [29., 38., 48.],\n",
       "         ...,\n",
       "         [67., 79., 85.],\n",
       "         [64., 74., 81.],\n",
       "         [62., 72., 79.]],\n",
       " \n",
       "        [[32., 41., 51.],\n",
       "         [31., 40., 50.],\n",
       "         [29., 38., 48.],\n",
       "         ...,\n",
       "         [68., 80., 86.],\n",
       "         [65., 75., 82.],\n",
       "         [62., 72., 79.]],\n",
       " \n",
       "        [[31., 40., 50.],\n",
       "         [29., 38., 48.],\n",
       "         [28., 37., 47.],\n",
       "         ...,\n",
       "         [69., 81., 87.],\n",
       "         [68., 78., 85.],\n",
       "         [66., 76., 83.]],\n",
       " \n",
       "        ...,\n",
       " \n",
       "        [[63., 74., 78.],\n",
       "         [67., 78., 82.],\n",
       "         [71., 82., 86.],\n",
       "         ...,\n",
       "         [59., 74., 83.],\n",
       "         [55., 70., 79.],\n",
       "         [53., 68., 77.]],\n",
       " \n",
       "        [[64., 75., 79.],\n",
       "         [67., 78., 82.],\n",
       "         [72., 83., 87.],\n",
       "         ...,\n",
       "         [61., 76., 85.],\n",
       "         [58., 73., 82.],\n",
       "         [55., 70., 79.]],\n",
       " \n",
       "        [[63., 74., 78.],\n",
       "         [66., 77., 81.],\n",
       "         [68., 79., 83.],\n",
       "         ...,\n",
       "         [63., 78., 87.],\n",
       "         [59., 74., 83.],\n",
       "         [57., 72., 81.]]], dtype=float32),\n",
       " array([[[  7.,   9.,   9.],\n",
       "         [  9.,  11.,  11.],\n",
       "         [ 11.,  13.,  13.],\n",
       "         ...,\n",
       "         [161., 168., 155.],\n",
       "         [160., 167., 154.],\n",
       "         [160., 167., 154.]],\n",
       " \n",
       "        [[  9.,  11.,  11.],\n",
       "         [ 11.,  13.,  13.],\n",
       "         [ 13.,  15.,  15.],\n",
       "         ...,\n",
       "         [162., 169., 156.],\n",
       "         [161., 168., 155.],\n",
       "         [160., 167., 154.]],\n",
       " \n",
       "        [[ 11.,  13.,  13.],\n",
       "         [ 13.,  15.,  15.],\n",
       "         [ 16.,  18.,  18.],\n",
       "         ...,\n",
       "         [163., 170., 157.],\n",
       "         [162., 169., 156.],\n",
       "         [161., 168., 155.]],\n",
       " \n",
       "        ...,\n",
       " \n",
       "        [[  0.,   0.,   0.],\n",
       "         [  0.,   0.,   0.],\n",
       "         [  0.,   0.,   0.],\n",
       "         ...,\n",
       "         [  0.,   0.,   0.],\n",
       "         [  0.,   0.,   0.],\n",
       "         [  0.,   0.,   0.]],\n",
       " \n",
       "        [[  0.,   0.,   0.],\n",
       "         [  0.,   0.,   0.],\n",
       "         [  0.,   0.,   0.],\n",
       "         ...,\n",
       "         [  0.,   0.,   0.],\n",
       "         [  0.,   0.,   0.],\n",
       "         [  0.,   0.,   0.]],\n",
       " \n",
       "        [[  0.,   0.,   0.],\n",
       "         [  0.,   0.,   0.],\n",
       "         [  0.,   0.,   0.],\n",
       "         ...,\n",
       "         [  0.,   0.,   0.],\n",
       "         [  0.,   0.,   0.],\n",
       "         [  0.,   0.,   0.]]], dtype=float32),\n",
       " array([[[32., 41., 51.],\n",
       "         [31., 40., 50.],\n",
       "         [29., 38., 48.],\n",
       "         ...,\n",
       "         [67., 79., 85.],\n",
       "         [64., 74., 81.],\n",
       "         [62., 72., 79.]],\n",
       " \n",
       "        [[32., 41., 51.],\n",
       "         [31., 40., 50.],\n",
       "         [29., 38., 48.],\n",
       "         ...,\n",
       "         [68., 80., 86.],\n",
       "         [65., 75., 82.],\n",
       "         [63., 73., 80.]],\n",
       " \n",
       "        [[31., 40., 50.],\n",
       "         [29., 38., 48.],\n",
       "         [28., 37., 47.],\n",
       "         ...,\n",
       "         [69., 81., 87.],\n",
       "         [68., 78., 85.],\n",
       "         [66., 76., 83.]],\n",
       " \n",
       "        ...,\n",
       " \n",
       "        [[63., 74., 78.],\n",
       "         [67., 78., 82.],\n",
       "         [71., 83., 85.],\n",
       "         ...,\n",
       "         [59., 74., 83.],\n",
       "         [55., 70., 79.],\n",
       "         [53., 68., 77.]],\n",
       " \n",
       "        [[64., 75., 79.],\n",
       "         [67., 78., 82.],\n",
       "         [72., 84., 86.],\n",
       "         ...,\n",
       "         [61., 76., 85.],\n",
       "         [58., 73., 82.],\n",
       "         [55., 70., 79.]],\n",
       " \n",
       "        [[63., 74., 78.],\n",
       "         [65., 76., 80.],\n",
       "         [68., 80., 82.],\n",
       "         ...,\n",
       "         [63., 78., 87.],\n",
       "         [59., 74., 83.],\n",
       "         [57., 72., 81.]]], dtype=float32)]"
      ]
     },
     "execution_count": 16,
     "metadata": {},
     "output_type": "execute_result"
    }
   ],
   "source": [
    "data[:3]"
   ]
  },
  {
   "cell_type": "code",
   "execution_count": 17,
   "id": "9067c597",
   "metadata": {},
   "outputs": [],
   "source": [
    "x_train, x_test, y_train, y_test = train_test_split(data, labels, test_size=0.2, random_state=42)"
   ]
  },
  {
   "cell_type": "code",
   "execution_count": 18,
   "id": "511979a7",
   "metadata": {},
   "outputs": [
    {
     "name": "stdout",
     "output_type": "stream",
     "text": [
      "5\n"
     ]
    }
   ],
   "source": [
    "print(y_train[4])"
   ]
  },
  {
   "cell_type": "code",
   "execution_count": 19,
   "id": "5c0cacb6",
   "metadata": {},
   "outputs": [
    {
     "ename": "TypeError",
     "evalue": "scandir: path should be string, bytes, os.PathLike or None, not list",
     "output_type": "error",
     "traceback": [
      "\u001b[1;31m---------------------------------------------------------------------------\u001b[0m",
      "\u001b[1;31mTypeError\u001b[0m                                 Traceback (most recent call last)",
      "Cell \u001b[1;32mIn[19], line 3\u001b[0m\n\u001b[0;32m      1\u001b[0m \u001b[38;5;66;03m#DataLoader\u001b[39;00m\n\u001b[0;32m      2\u001b[0m train_loader \u001b[38;5;241m=\u001b[39m DataLoader(\n\u001b[1;32m----> 3\u001b[0m     \u001b[43mtorchvision\u001b[49m\u001b[38;5;241;43m.\u001b[39;49m\u001b[43mdatasets\u001b[49m\u001b[38;5;241;43m.\u001b[39;49m\u001b[43mImageFolder\u001b[49m\u001b[43m(\u001b[49m\u001b[43mx_train\u001b[49m\u001b[43m,\u001b[49m\u001b[43m \u001b[49m\u001b[43mtransform\u001b[49m\u001b[38;5;241;43m=\u001b[39;49m\u001b[43mtransformer\u001b[49m\u001b[43m)\u001b[49m,\n\u001b[0;32m      4\u001b[0m     batch_size\u001b[38;5;241m=\u001b[39m\u001b[38;5;241m256\u001b[39m, shuffle\u001b[38;5;241m=\u001b[39m\u001b[38;5;28;01mTrue\u001b[39;00m\n\u001b[0;32m      5\u001b[0m )\n\u001b[0;32m      6\u001b[0m test_loader\u001b[38;5;241m=\u001b[39mDataloader(\n\u001b[0;32m      7\u001b[0m     torchvision\u001b[38;5;241m.\u001b[39mdatasets\u001b[38;5;241m.\u001b[39mImageFolder(x_test, transform\u001b[38;5;241m=\u001b[39mtransformer),\n\u001b[0;32m      8\u001b[0m     batch_size\u001b[38;5;241m=\u001b[39m\u001b[38;5;241m256\u001b[39m, shuffle\u001b[38;5;241m=\u001b[39m\u001b[38;5;28;01mTrue\u001b[39;00m\n\u001b[0;32m      9\u001b[0m )\n",
      "File \u001b[1;32m~\\anaconda3\\envs\\tf2.5\\lib\\site-packages\\torchvision\\datasets\\folder.py:309\u001b[0m, in \u001b[0;36mImageFolder.__init__\u001b[1;34m(self, root, transform, target_transform, loader, is_valid_file)\u001b[0m\n\u001b[0;32m    301\u001b[0m \u001b[38;5;28;01mdef\u001b[39;00m \u001b[38;5;21m__init__\u001b[39m(\n\u001b[0;32m    302\u001b[0m     \u001b[38;5;28mself\u001b[39m,\n\u001b[0;32m    303\u001b[0m     root: \u001b[38;5;28mstr\u001b[39m,\n\u001b[1;32m   (...)\u001b[0m\n\u001b[0;32m    307\u001b[0m     is_valid_file: Optional[Callable[[\u001b[38;5;28mstr\u001b[39m], \u001b[38;5;28mbool\u001b[39m]] \u001b[38;5;241m=\u001b[39m \u001b[38;5;28;01mNone\u001b[39;00m,\n\u001b[0;32m    308\u001b[0m ):\n\u001b[1;32m--> 309\u001b[0m     \u001b[38;5;28;43msuper\u001b[39;49m\u001b[43m(\u001b[49m\u001b[43m)\u001b[49m\u001b[38;5;241;43m.\u001b[39;49m\u001b[38;5;21;43m__init__\u001b[39;49m\u001b[43m(\u001b[49m\n\u001b[0;32m    310\u001b[0m \u001b[43m        \u001b[49m\u001b[43mroot\u001b[49m\u001b[43m,\u001b[49m\n\u001b[0;32m    311\u001b[0m \u001b[43m        \u001b[49m\u001b[43mloader\u001b[49m\u001b[43m,\u001b[49m\n\u001b[0;32m    312\u001b[0m \u001b[43m        \u001b[49m\u001b[43mIMG_EXTENSIONS\u001b[49m\u001b[43m \u001b[49m\u001b[38;5;28;43;01mif\u001b[39;49;00m\u001b[43m \u001b[49m\u001b[43mis_valid_file\u001b[49m\u001b[43m \u001b[49m\u001b[38;5;129;43;01mis\u001b[39;49;00m\u001b[43m \u001b[49m\u001b[38;5;28;43;01mNone\u001b[39;49;00m\u001b[43m \u001b[49m\u001b[38;5;28;43;01melse\u001b[39;49;00m\u001b[43m \u001b[49m\u001b[38;5;28;43;01mNone\u001b[39;49;00m\u001b[43m,\u001b[49m\n\u001b[0;32m    313\u001b[0m \u001b[43m        \u001b[49m\u001b[43mtransform\u001b[49m\u001b[38;5;241;43m=\u001b[39;49m\u001b[43mtransform\u001b[49m\u001b[43m,\u001b[49m\n\u001b[0;32m    314\u001b[0m \u001b[43m        \u001b[49m\u001b[43mtarget_transform\u001b[49m\u001b[38;5;241;43m=\u001b[39;49m\u001b[43mtarget_transform\u001b[49m\u001b[43m,\u001b[49m\n\u001b[0;32m    315\u001b[0m \u001b[43m        \u001b[49m\u001b[43mis_valid_file\u001b[49m\u001b[38;5;241;43m=\u001b[39;49m\u001b[43mis_valid_file\u001b[49m\u001b[43m,\u001b[49m\n\u001b[0;32m    316\u001b[0m \u001b[43m    \u001b[49m\u001b[43m)\u001b[49m\n\u001b[0;32m    317\u001b[0m     \u001b[38;5;28mself\u001b[39m\u001b[38;5;241m.\u001b[39mimgs \u001b[38;5;241m=\u001b[39m \u001b[38;5;28mself\u001b[39m\u001b[38;5;241m.\u001b[39msamples\n",
      "File \u001b[1;32m~\\anaconda3\\envs\\tf2.5\\lib\\site-packages\\torchvision\\datasets\\folder.py:144\u001b[0m, in \u001b[0;36mDatasetFolder.__init__\u001b[1;34m(self, root, loader, extensions, transform, target_transform, is_valid_file)\u001b[0m\n\u001b[0;32m    134\u001b[0m \u001b[38;5;28;01mdef\u001b[39;00m \u001b[38;5;21m__init__\u001b[39m(\n\u001b[0;32m    135\u001b[0m     \u001b[38;5;28mself\u001b[39m,\n\u001b[0;32m    136\u001b[0m     root: \u001b[38;5;28mstr\u001b[39m,\n\u001b[1;32m   (...)\u001b[0m\n\u001b[0;32m    141\u001b[0m     is_valid_file: Optional[Callable[[\u001b[38;5;28mstr\u001b[39m], \u001b[38;5;28mbool\u001b[39m]] \u001b[38;5;241m=\u001b[39m \u001b[38;5;28;01mNone\u001b[39;00m,\n\u001b[0;32m    142\u001b[0m ) \u001b[38;5;241m-\u001b[39m\u001b[38;5;241m>\u001b[39m \u001b[38;5;28;01mNone\u001b[39;00m:\n\u001b[0;32m    143\u001b[0m     \u001b[38;5;28msuper\u001b[39m()\u001b[38;5;241m.\u001b[39m\u001b[38;5;21m__init__\u001b[39m(root, transform\u001b[38;5;241m=\u001b[39mtransform, target_transform\u001b[38;5;241m=\u001b[39mtarget_transform)\n\u001b[1;32m--> 144\u001b[0m     classes, class_to_idx \u001b[38;5;241m=\u001b[39m \u001b[38;5;28;43mself\u001b[39;49m\u001b[38;5;241;43m.\u001b[39;49m\u001b[43mfind_classes\u001b[49m\u001b[43m(\u001b[49m\u001b[38;5;28;43mself\u001b[39;49m\u001b[38;5;241;43m.\u001b[39;49m\u001b[43mroot\u001b[49m\u001b[43m)\u001b[49m\n\u001b[0;32m    145\u001b[0m     samples \u001b[38;5;241m=\u001b[39m \u001b[38;5;28mself\u001b[39m\u001b[38;5;241m.\u001b[39mmake_dataset(\u001b[38;5;28mself\u001b[39m\u001b[38;5;241m.\u001b[39mroot, class_to_idx, extensions, is_valid_file)\n\u001b[0;32m    147\u001b[0m     \u001b[38;5;28mself\u001b[39m\u001b[38;5;241m.\u001b[39mloader \u001b[38;5;241m=\u001b[39m loader\n",
      "File \u001b[1;32m~\\anaconda3\\envs\\tf2.5\\lib\\site-packages\\torchvision\\datasets\\folder.py:218\u001b[0m, in \u001b[0;36mDatasetFolder.find_classes\u001b[1;34m(self, directory)\u001b[0m\n\u001b[0;32m    191\u001b[0m \u001b[38;5;28;01mdef\u001b[39;00m \u001b[38;5;21mfind_classes\u001b[39m(\u001b[38;5;28mself\u001b[39m, directory: \u001b[38;5;28mstr\u001b[39m) \u001b[38;5;241m-\u001b[39m\u001b[38;5;241m>\u001b[39m Tuple[List[\u001b[38;5;28mstr\u001b[39m], Dict[\u001b[38;5;28mstr\u001b[39m, \u001b[38;5;28mint\u001b[39m]]:\n\u001b[0;32m    192\u001b[0m \u001b[38;5;250m    \u001b[39m\u001b[38;5;124;03m\"\"\"Find the class folders in a dataset structured as follows::\u001b[39;00m\n\u001b[0;32m    193\u001b[0m \n\u001b[0;32m    194\u001b[0m \u001b[38;5;124;03m        directory/\u001b[39;00m\n\u001b[1;32m   (...)\u001b[0m\n\u001b[0;32m    216\u001b[0m \u001b[38;5;124;03m        (Tuple[List[str], Dict[str, int]]): List of all classes and dictionary mapping each class to an index.\u001b[39;00m\n\u001b[0;32m    217\u001b[0m \u001b[38;5;124;03m    \"\"\"\u001b[39;00m\n\u001b[1;32m--> 218\u001b[0m     \u001b[38;5;28;01mreturn\u001b[39;00m \u001b[43mfind_classes\u001b[49m\u001b[43m(\u001b[49m\u001b[43mdirectory\u001b[49m\u001b[43m)\u001b[49m\n",
      "File \u001b[1;32m~\\anaconda3\\envs\\tf2.5\\lib\\site-packages\\torchvision\\datasets\\folder.py:40\u001b[0m, in \u001b[0;36mfind_classes\u001b[1;34m(directory)\u001b[0m\n\u001b[0;32m     35\u001b[0m \u001b[38;5;28;01mdef\u001b[39;00m \u001b[38;5;21mfind_classes\u001b[39m(directory: \u001b[38;5;28mstr\u001b[39m) \u001b[38;5;241m-\u001b[39m\u001b[38;5;241m>\u001b[39m Tuple[List[\u001b[38;5;28mstr\u001b[39m], Dict[\u001b[38;5;28mstr\u001b[39m, \u001b[38;5;28mint\u001b[39m]]:\n\u001b[0;32m     36\u001b[0m \u001b[38;5;250m    \u001b[39m\u001b[38;5;124;03m\"\"\"Finds the class folders in a dataset.\u001b[39;00m\n\u001b[0;32m     37\u001b[0m \n\u001b[0;32m     38\u001b[0m \u001b[38;5;124;03m    See :class:`DatasetFolder` for details.\u001b[39;00m\n\u001b[0;32m     39\u001b[0m \u001b[38;5;124;03m    \"\"\"\u001b[39;00m\n\u001b[1;32m---> 40\u001b[0m     classes \u001b[38;5;241m=\u001b[39m \u001b[38;5;28msorted\u001b[39m(entry\u001b[38;5;241m.\u001b[39mname \u001b[38;5;28;01mfor\u001b[39;00m entry \u001b[38;5;129;01min\u001b[39;00m \u001b[43mos\u001b[49m\u001b[38;5;241;43m.\u001b[39;49m\u001b[43mscandir\u001b[49m\u001b[43m(\u001b[49m\u001b[43mdirectory\u001b[49m\u001b[43m)\u001b[49m \u001b[38;5;28;01mif\u001b[39;00m entry\u001b[38;5;241m.\u001b[39mis_dir())\n\u001b[0;32m     41\u001b[0m     \u001b[38;5;28;01mif\u001b[39;00m \u001b[38;5;129;01mnot\u001b[39;00m classes:\n\u001b[0;32m     42\u001b[0m         \u001b[38;5;28;01mraise\u001b[39;00m \u001b[38;5;167;01mFileNotFoundError\u001b[39;00m(\u001b[38;5;124mf\u001b[39m\u001b[38;5;124m\"\u001b[39m\u001b[38;5;124mCouldn\u001b[39m\u001b[38;5;124m'\u001b[39m\u001b[38;5;124mt find any class folder in \u001b[39m\u001b[38;5;132;01m{\u001b[39;00mdirectory\u001b[38;5;132;01m}\u001b[39;00m\u001b[38;5;124m.\u001b[39m\u001b[38;5;124m\"\u001b[39m)\n",
      "\u001b[1;31mTypeError\u001b[0m: scandir: path should be string, bytes, os.PathLike or None, not list"
     ]
    }
   ],
   "source": [
    "#DataLoader\n",
    "train_loader = DataLoader(\n",
    "    torchvision.datasets.ImageFolder(x_train, transform=transformer),\n",
    "    batch_size=256, shuffle=True\n",
    ")\n",
    "test_loader=Dataloader(\n",
    "    torchvision.datasets.ImageFolder(x_test, transform=transformer),\n",
    "    batch_size=256, shuffle=True\n",
    ")"
   ]
  },
  {
   "cell_type": "code",
   "execution_count": null,
   "id": "81a169bd",
   "metadata": {},
   "outputs": [],
   "source": [
    "parameters = {'n_estimators':[4, 6, 9],\n",
    "              'max_features':['log2', 'sqrt', 'auto'],\n",
    "              'criterion': ['entropy', 'gini'],\n",
    "              'max_depth': [2, 3, 5, 10], \n",
    "              'min_samples_split': [2, 3, 5],\n",
    "              'min_samples_leaf': [1,5,8]\n",
    "             }"
   ]
  },
  {
   "cell_type": "code",
   "execution_count": null,
   "id": "86c37199",
   "metadata": {},
   "outputs": [],
   "source": [
    "from sklearn.metrics import make_scorer, accuracy_score\n",
    "from sklearn.model_selection import GridSearchCV\n",
    "\n",
    "acc_scorer = make_scorer(accuracy_score)\n",
    "\n",
    "grid_obj = GridSearchCV(squeezenet_age, parameters, scoring=acc_scorer)\n",
    "grid_obj = grid_obj.fit(x_train, y_train)\n",
    "\n",
    "squeezenet_age = grid_obj.best_estimator_\n",
    "squeezenet_age.fit(x_train, y_train)"
   ]
  },
  {
   "cell_type": "code",
   "execution_count": null,
   "id": "2328d5a1",
   "metadata": {},
   "outputs": [],
   "source": []
  },
  {
   "cell_type": "code",
   "execution_count": null,
   "id": "0c9f019a",
   "metadata": {},
   "outputs": [],
   "source": []
  }
 ],
 "metadata": {
  "kernelspec": {
   "display_name": "tf2.5",
   "language": "python",
   "name": "tf2.5"
  },
  "language_info": {
   "codemirror_mode": {
    "name": "ipython",
    "version": 3
   },
   "file_extension": ".py",
   "mimetype": "text/x-python",
   "name": "python",
   "nbconvert_exporter": "python",
   "pygments_lexer": "ipython3",
   "version": "3.8.0"
  }
 },
 "nbformat": 4,
 "nbformat_minor": 5
}
