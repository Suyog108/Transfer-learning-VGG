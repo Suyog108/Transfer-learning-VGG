{
 "cells": [
  {
   "cell_type": "code",
   "execution_count": 63,
   "id": "c56eaac1",
   "metadata": {},
   "outputs": [],
   "source": [
    "import os\n",
    "import random\n",
    "import numpy as np\n",
    "import matplotlib.pyplot as plt\n",
    "%matplotlib inline\n",
    "import cv2\n",
    "import imutils\n",
    "from sklearn.model_selection import train_test_split\n",
    "from sklearn.model_selection import train_test_split\n",
    "from keras.utils import np_utils\n",
    "from keras.models import Model,Sequential\n",
    "from keras.layers import Dense,Flatten,Dropout\n",
    "from keras.applications.vgg16 import preprocess_input,VGG16\n",
    "from keras.regularizers import l2\n",
    "from keras.callbacks import ModelCheckpoint,EarlyStopping\n",
    "from tensorflow.keras.utils import img_to_array\n",
    "from torchvision import transforms\n",
    "from PIL import ImageFont"
   ]
  },
  {
   "cell_type": "code",
   "execution_count": 64,
   "id": "576130d8",
   "metadata": {},
   "outputs": [],
   "source": [
    "seed_constant = 27\n",
    "random.seed(seed_constant)"
   ]
  },
  {
   "cell_type": "code",
   "execution_count": 65,
   "id": "57540ead",
   "metadata": {},
   "outputs": [],
   "source": [
    "#transforms\n",
    "transformer=transforms.Compose([\n",
    "    transforms.Resize((150, 150)),\n",
    "    transforms.RandomHorizontalFlip(),\n",
    "    transforms.ToTensor(),\n",
    "    transforms.Normalize([0.5,0.5,0.5],\n",
    "                        [0.5,0.5,0.5])\n",
    "]\n",
    ")"
   ]
  },
  {
   "cell_type": "code",
   "execution_count": 66,
   "id": "b7322d6c",
   "metadata": {},
   "outputs": [
    {
     "name": "stdout",
     "output_type": "stream",
     "text": [
      "Total images  9144\n"
     ]
    }
   ],
   "source": [
    "listImageFilePaths = []\n",
    "for dirname, _, filenames in os.walk('combined_faces/part1/'):\n",
    "    for filename in filenames:\n",
    "        listImageFilePaths.append( os.path.join(dirname, filename))\n",
    "        \n",
    "print('Total images ', len(listImageFilePaths))"
   ]
  },
  {
   "cell_type": "code",
   "execution_count": 67,
   "id": "246ba2f2",
   "metadata": {},
   "outputs": [
    {
     "data": {
      "text/plain": [
       "['combined_faces/part1/10_1.jpg', 'combined_faces/part1/10_10.jpg']"
      ]
     },
     "execution_count": 67,
     "metadata": {},
     "output_type": "execute_result"
    }
   ],
   "source": [
    "listImageFilePaths[:2]"
   ]
  },
  {
   "cell_type": "code",
   "execution_count": 68,
   "id": "da72c041",
   "metadata": {},
   "outputs": [],
   "source": [
    "Image_dimension=(100, 100, 3)"
   ]
  },
  {
   "cell_type": "code",
   "execution_count": 69,
   "id": "750d06e6",
   "metadata": {},
   "outputs": [],
   "source": [
    "data = []\n",
    "labels = []"
   ]
  },
  {
   "cell_type": "code",
   "execution_count": 70,
   "id": "43623a7c",
   "metadata": {},
   "outputs": [],
   "source": [
    "img_height=224\n",
    "img_width=224"
   ]
  },
  {
   "cell_type": "code",
   "execution_count": 71,
   "id": "90b144eb",
   "metadata": {},
   "outputs": [],
   "source": [
    "for img in listImageFilePaths:\n",
    "    image = cv2.imread(img)\n",
    "    resized_img=cv2.resize(image,(img_height, img_width))\n",
    "    normalized_img = resized_img/255\n",
    "    data.append(normalized_img)"
   ]
  },
  {
   "cell_type": "code",
   "execution_count": 72,
   "id": "5354ac4c",
   "metadata": {},
   "outputs": [],
   "source": [
    "for img in listImageFilePaths:\n",
    "    image1 = cv2.imread(img)\n",
    "    image = img_to_array(image1)\n",
    "    age_value = img.split(\"/\")[-1]\n",
    "    age_value = int(age_value.split(\"_\")[0])\n",
    "    age_value = age_value//25\n",
    "    labels.append(age_value)"
   ]
  },
  {
   "cell_type": "code",
   "execution_count": null,
   "id": "3af66b93",
   "metadata": {},
   "outputs": [],
   "source": [
    "features = np.asarray(data)"
   ]
  },
  {
   "cell_type": "code",
   "execution_count": null,
   "id": "2d212da3",
   "metadata": {},
   "outputs": [],
   "source": [
    "data[:3]"
   ]
  },
  {
   "cell_type": "code",
   "execution_count": null,
   "id": "7d486f8f",
   "metadata": {},
   "outputs": [],
   "source": []
  },
  {
   "cell_type": "code",
   "execution_count": null,
   "id": "dc4594ac",
   "metadata": {},
   "outputs": [],
   "source": [
    "labels[:3]"
   ]
  },
  {
   "cell_type": "code",
   "execution_count": null,
   "id": "7ac9021f",
   "metadata": {
    "scrolled": false
   },
   "outputs": [],
   "source": [
    "# Create a Matplotlib figure.\n",
    "plt.figure(figsize=(25,25))\n",
    "\n",
    "# Generate a list of 5 random values. The values should be less than number of images in dataset.\n",
    "random_range = random.sample(range(len(listImageFilePaths)), 3)\n",
    "\n",
    "#Iterate through random values\n",
    "for counter, random_index in enumerate(random_range, 1):\n",
    "  \n",
    "  #Name of the selected image\n",
    "  img_name=listImageFilePaths[random_index]\n",
    "\n",
    "  #Path of the selected image\n",
    "  img_path=os.path.join(dirname, filename)\n",
    "\n",
    "  #Read the selected image in BGR format\n",
    "  bgr_img=cv2.imread(img_path)\n",
    "\n",
    "  #Convert it into RGB format\n",
    "  rgb_img=cv2.cvtColor(bgr_img,cv2.COLOR_BGR2RGB)\n",
    "\n",
    "  #Display the selected image\n",
    "  plt.subplot(5, 1, counter)\n",
    "  plt.imshow(rgb_img)\n",
    "  plt.title(img_name)\n",
    "  plt.axis('off')"
   ]
  },
  {
   "cell_type": "code",
   "execution_count": null,
   "id": "d08808f1",
   "metadata": {},
   "outputs": [],
   "source": [
    "img_height = 224\n",
    "img_width = 224\n",
    "\n",
    "def image_preprocessing(img_path):\n",
    "    #Read the image\n",
    "    img = cv2.imread(img_path)\n",
    "    \n",
    "    #Resize the image \n",
    "    resize_img = cv2.resize(img,(img_height, img_width))\n",
    "    \n",
    "    #Normalize the image\n",
    "    normalized_img = resized_img/255\n",
    "    \n",
    "    return normalized_img"
   ]
  },
  {
   "cell_type": "code",
   "execution_count": null,
   "id": "37af9f8d",
   "metadata": {},
   "outputs": [],
   "source": []
  },
  {
   "cell_type": "code",
   "execution_count": null,
   "id": "96c64972",
   "metadata": {},
   "outputs": [],
   "source": []
  },
  {
   "cell_type": "code",
   "execution_count": null,
   "id": "8d29777a",
   "metadata": {},
   "outputs": [],
   "source": []
  }
 ],
 "metadata": {
  "kernelspec": {
   "display_name": "tf2.5",
   "language": "python",
   "name": "tf2.5"
  },
  "language_info": {
   "codemirror_mode": {
    "name": "ipython",
    "version": 3
   },
   "file_extension": ".py",
   "mimetype": "text/x-python",
   "name": "python",
   "nbconvert_exporter": "python",
   "pygments_lexer": "ipython3",
   "version": "3.8.0"
  }
 },
 "nbformat": 4,
 "nbformat_minor": 5
}
